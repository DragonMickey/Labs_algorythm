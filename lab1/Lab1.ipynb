{
 "cells": [
  {
   "cell_type": "markdown",
   "id": "fifteen-sailing",
   "metadata": {
    "id": "fifteen-sailing"
   },
   "source": [
    "# Лабораторная работа №1\n",
    "## Выполнил студент группы Мартынов Платон БСТ2201"
   ]
  },
  {
   "cell_type": "markdown",
   "id": "particular-syndicate",
   "metadata": {
    "id": "particular-syndicate"
   },
   "source": [
    "### Оглавление\n",
    "1. [Задание 1](#Задание-№1)\n",
    "2. [Задание 2](#Задание-№2)\n",
    "3. [Задание 3](#Задание-№3)\n",
    "4. [Вывод](#Вывод)"
   ]
  },
  {
   "cell_type": "markdown",
   "id": "arctic-stocks",
   "metadata": {
    "id": "arctic-stocks"
   },
   "source": [
    "### Задание №1\n",
    "<i> Вызвать функцию print() и передать туда строку Hello, World! </i>"
   ]
  },
  {
   "cell_type": "code",
   "execution_count": 1,
   "id": "caring-truck",
   "metadata": {
    "id": "caring-truck",
    "scrolled": true
   },
   "outputs": [
    {
     "name": "stdout",
     "output_type": "stream",
     "text": [
      "Hello, World!\n"
     ]
    }
   ],
   "source": [
    "print('Hello, World!')"
   ]
  },
  {
   "cell_type": "markdown",
   "id": "maritime-conversation",
   "metadata": {
    "id": "maritime-conversation"
   },
   "source": [
    "### Задание №2\n",
    "Написать генератор случайных матриц(многомерных), который принимает\n",
    "опциональные параметры <b>m</b>, <b>n</b>, <b>min_limit</b>, <b>max_limit</b>, где <b>m</b> и <b>n</b> указывают размер\n",
    "матрицы, а <b>min_lim</b> и <b>max_lim</b> - минимальное и максимальное значение для\n",
    "генерируемого числа."
   ]
  },
  {
   "cell_type": "code",
   "execution_count": 2,
   "id": "built-contact",
   "metadata": {
    "id": "built-contact"
   },
   "outputs": [],
   "source": [
    "import random\n",
    "import time"
   ]
  },
  {
   "cell_type": "code",
   "execution_count": 334,
   "id": "alert-charm",
   "metadata": {
    "id": "alert-charm",
    "outputId": "c95dd9e7-d076-4718-b6fb-25f2e6bc03b9"
   },
   "outputs": [
    {
     "name": "stdout",
     "output_type": "stream",
     "text": [
      "[[2, 10, 2, 4, 7], [1, 1, 8, 6, 4], [5, 4, 10, 1, 5], [7, 1, 6, 10, 1], [9, 3, 8, 1, 8]]\n"
     ]
    }
   ],
   "source": [
    "\n",
    "user_m = int(input())\n",
    "user_n = int(input())\n",
    "user_min_limit = int(input())\n",
    "user_max_limit = int(input())\n",
    "matrix = [[0]*user_m for i in range(user_n)] # создание матрицы размером N x M\n",
    "for n in range(user_n):\n",
    "    for m in range(user_m):\n",
    "        matrix[n][m] = random.randint(user_min_limit, user_max_limit) # заполнение матрицы случайными числами\n",
    "print(matrix)\n"
   ]
  },
  {
   "cell_type": "markdown",
   "id": "catholic-roots",
   "metadata": {
    "id": "catholic-roots"
   },
   "source": [
    "### Задание №3\n",
    "Реализовать методы сортировки строк числовой матрицы в соответствии с\n",
    "заданием. Оценить время работы каждого алгоритма сортировки и сравнить его со\n",
    "временем стандартной функции сортировки. Испытания проводить на сгенерированных\n",
    "матрицах."
   ]
  },
  {
   "cell_type": "code",
   "execution_count": 335,
   "id": "opposed-creature",
   "metadata": {
    "id": "opposed-creature"
   },
   "outputs": [],
   "source": [
    "import copy"
   ]
  },
  {
   "cell_type": "code",
   "execution_count": 342,
   "id": "cleared-anniversary",
   "metadata": {
    "id": "cleared-anniversary",
    "outputId": "b7c76c60-4acb-4c14-9bfb-d4f8d71093a1"
   },
   "outputs": [
    {
     "name": "stdout",
     "output_type": "stream",
     "text": [
      "[[2, 2, 4, 7, 10], [1, 1, 4, 6, 8], [1, 4, 5, 5, 10], [1, 1, 6, 7, 10], [1, 3, 8, 8, 9]] Отсортированный по строкам массив\n",
      "[[2, 10, 2, 4, 7], [1, 1, 8, 6, 4], [5, 4, 10, 1, 5], [7, 1, 6, 10, 1], [9, 3, 8, 1, 8]] Исходный массив\n",
      "--- 0 ms ---\n"
     ]
    }
   ],
   "source": [
    "# Сортировка выбором.\n",
    "# Берётся срез массива, в котором минимальный элемент переносят в самый левый угол,\n",
    "# после чего срез уменьшается и цикл повторяется.\n",
    "start_time = time.time()\n",
    "#TODO\n",
    "row = copy.deepcopy(matrix) # создаём копию исходной матрицы\n",
    "for k in range(user_n):\n",
    "    for i in range(user_m-1):\n",
    "        m = i\n",
    "        for j in range(i+1, user_m):\n",
    "            if row[k][j] < row[k][m]:\n",
    "                m = j\n",
    "        row[k][i], row[k][m] = row[k][m], row[k][i]\n",
    "print(row, \"Отсортированный по строкам массив\")\n",
    "print(matrix, \"Исходный массив\")\n",
    "\n",
    "print(\"--- {0} ms ---\".format(round((time.time() - start_time)*1000)))"
   ]
  },
  {
   "cell_type": "code",
   "execution_count": 348,
   "id": "roman-silly",
   "metadata": {
    "id": "roman-silly",
    "outputId": "84666b71-fb68-4c07-d27d-e716af29fcbb",
    "scrolled": true
   },
   "outputs": [
    {
     "name": "stdout",
     "output_type": "stream",
     "text": [
      "[[2, 2, 4, 7, 10], [1, 1, 4, 6, 8], [1, 4, 5, 5, 10], [1, 1, 6, 7, 10], [1, 3, 8, 8, 9]] Отсортированный по строкам массив\n",
      "[[2, 10, 2, 4, 7], [1, 1, 8, 6, 4], [5, 4, 10, 1, 5], [7, 1, 6, 10, 1], [9, 3, 8, 1, 8]] Исходный массив\n",
      "--- 1 ms ---\n"
     ]
    }
   ],
   "source": [
    "# Сортировка вставкой.\n",
    "start_time = time.time()\n",
    "\n",
    "row = copy.deepcopy(matrix) # создаём копию исходной матрицы\n",
    "for k in range(user_n):\n",
    "    for i in range(user_m):\n",
    "        new_pos = row[k][i]\n",
    "        pos = i\n",
    "        \n",
    "        while pos > 0 and row[k][pos - 1] > new_pos:\n",
    "            # Меняем местами число, продвигая по списку\n",
    "            row[k][pos] = row[k][pos - 1]\n",
    "            pos = pos - 1\n",
    "        # Остановимся и сделаем последний обмен\n",
    "        row[k][pos] = new_pos\n",
    "print(row, \"Отсортированный по строкам массив\")\n",
    "print(matrix, \"Исходный массив\")\n",
    "\n",
    "print(\"--- {0} ms ---\".format(round((time.time() - start_time)*1000)))"
   ]
  },
  {
   "cell_type": "code",
   "execution_count": 353,
   "id": "vital-implementation",
   "metadata": {
    "id": "vital-implementation",
    "outputId": "7b648bf5-37a5-4d47-926d-b799f7a23be2"
   },
   "outputs": [
    {
     "name": "stdout",
     "output_type": "stream",
     "text": [
      "[[2, 2, 4, 7, 10], [1, 1, 4, 6, 8], [1, 4, 5, 5, 10], [1, 1, 6, 7, 10], [1, 3, 8, 8, 9]] Отсортированный по строкам массив\n",
      "[[2, 10, 2, 4, 7], [1, 1, 8, 6, 4], [5, 4, 10, 1, 5], [7, 1, 6, 10, 1], [9, 3, 8, 1, 8]] Исходный массив\n",
      "--- 2 ms ---\n"
     ]
    }
   ],
   "source": [
    "# Сортировка обменом. || Сортировка пузырьком.\n",
    "start_time = time.time()\n",
    "\n",
    "row = copy.deepcopy(matrix) # создаём копию исходной матрицы\n",
    "for k in range(user_n):\n",
    "    swapped = True\n",
    "    \n",
    "    x = -1\n",
    "    while swapped:\n",
    "        swapped = False\n",
    "        x = x + 1\n",
    "        for i in range(1, user_m-x):\n",
    "            if row[k][i - 1] > row[k][i]:\n",
    "                row[k][i - 1], row[k][i] = row[k][i], row[k][i - 1]\n",
    "                swapped = True\n",
    "print(row, \"Отсортированный по строкам массив\")\n",
    "print(matrix, \"Исходный массив\")\n",
    "\n",
    "print(\"--- {0} ms ---\".format(round((time.time() - start_time)*1000)))"
   ]
  },
  {
   "cell_type": "code",
   "execution_count": 357,
   "id": "veterinary-glory",
   "metadata": {
    "id": "veterinary-glory",
    "outputId": "9cc2a9ff-ec7a-43de-e4a8-47945d030986"
   },
   "outputs": [
    {
     "name": "stdout",
     "output_type": "stream",
     "text": [
      "[[2, 2, 4, 7, 10], [1, 1, 4, 6, 8], [1, 4, 5, 5, 10], [1, 1, 6, 7, 10], [1, 3, 8, 8, 9]] Отсортированный по строкам массив\n",
      "[[2, 10, 2, 4, 7], [1, 1, 8, 6, 4], [5, 4, 10, 1, 5], [7, 1, 6, 10, 1], [9, 3, 8, 1, 8]] Исходный массив\n",
      "--- 0 ms ---\n"
     ]
    }
   ],
   "source": [
    "# Сортировка Шелла.\n",
    "start_time = time.time()\n",
    "\n",
    "def ShellSort(data, size):\n",
    "    interval = size // 2\n",
    "    while interval > 0:\n",
    "        for i in range(interval, size):\n",
    "            temp = data[i]\n",
    "            j = i\n",
    "            while j >= interval and data[j - interval] > temp:\n",
    "                data[j] = data[j - interval]\n",
    "                j -= interval\n",
    "            data[j] = temp\n",
    "        interval //= 2\n",
    "\n",
    "row = copy.deepcopy(matrix) # создаём копию исходной матрицы\n",
    "for k in range(user_n):\n",
    "    ShellSort(row[k], user_m)\n",
    "print(row, \"Отсортированный по строкам массив\")\n",
    "print(matrix, \"Исходный массив\")\n",
    "\n",
    "print(\"--- {0} ms ---\".format(round((time.time() - start_time)*1000)))"
   ]
  },
  {
   "cell_type": "code",
   "execution_count": 362,
   "id": "correct-chaos",
   "metadata": {
    "id": "correct-chaos",
    "outputId": "f4d9aef1-8a2f-46a0-def0-4c9e049f5c77"
   },
   "outputs": [
    {
     "name": "stdout",
     "output_type": "stream",
     "text": [
      "[[2, 2, 4, 7, 10], [1, 1, 4, 6, 8], [1, 4, 5, 5, 10], [1, 1, 6, 7, 10], [1, 3, 8, 8, 9]] Отсортированный по строкам массив\n",
      "[[2, 10, 2, 4, 7], [1, 1, 8, 6, 4], [5, 4, 10, 1, 5], [7, 1, 6, 10, 1], [9, 3, 8, 1, 8]] Исходный массив\n",
      "--- 1 ms ---\n"
     ]
    }
   ],
   "source": [
    "# Быстрая сортировка.\n",
    "start_time = time.time()\n",
    "\n",
    "def QuickSort(A):\n",
    "    if len(A) <= 1:\n",
    "        return A\n",
    "    else:\n",
    "        q = random.choice(A)\n",
    "        L = []\n",
    "        M = []\n",
    "        R = []\n",
    "        for elem in A:\n",
    "            if elem < q:\n",
    "                L.append(elem) \n",
    "            elif elem > q: \n",
    "                R.append(elem) \n",
    "            else: \n",
    "                M.append(elem)\n",
    "        return QuickSort(L) + M + QuickSort(R)\n",
    "\n",
    "row = copy.deepcopy(matrix) # создаём копию исходной матрицы\n",
    "for k in range(user_n):\n",
    "    row[k] = QuickSort(row[k])\n",
    "print(row, \"Отсортированный по строкам массив\")\n",
    "print(matrix, \"Исходный массив\")\n",
    "\n",
    "    \n",
    "print(\"--- {0} ms ---\".format(round((time.time() - start_time)*1000)))\n",
    "    "
   ]
  },
  {
   "cell_type": "code",
   "execution_count": 374,
   "id": "french-czech",
   "metadata": {
    "colab": {
     "base_uri": "https://localhost:8080/",
     "height": 217
    },
    "executionInfo": {
     "elapsed": 433,
     "status": "error",
     "timestamp": 1645638345253,
     "user": {
      "displayName": "Sergey Simonov",
      "photoUrl": "https://lh3.googleusercontent.com/a-/AOh14GhQdeIfzzsg8bfb7DLHaLzEFH8Ebg2FyuaL9YoQyA=s64",
      "userId": "14094206399671235086"
     },
     "user_tz": -180
    },
    "id": "french-czech",
    "outputId": "7e38b779-8bbf-4955-c3ad-2a6be0ee386a"
   },
   "outputs": [
    {
     "name": "stdout",
     "output_type": "stream",
     "text": [
      "[[2, 2, 4, 7, 10], [1, 1, 4, 6, 8], [1, 4, 5, 5, 10], [1, 1, 6, 7, 10], [1, 3, 8, 8, 9]] Отсортированный по строкам массив\n",
      "[[2, 10, 2, 4, 7], [1, 1, 8, 6, 4], [5, 4, 10, 1, 5], [7, 1, 6, 10, 1], [9, 3, 8, 1, 8]] Исходный массив\n",
      "--- 0 ms ---\n"
     ]
    }
   ],
   "source": [
    "# Турнирная сортировка.\n",
    "start_time = time.time()\n",
    "\n",
    "def tour(ar):\n",
    "    while len(ar) > 1:\n",
    "        win_nums = []\n",
    "        if len(ar) % 2 != 0:\n",
    "            ar.append(max(ar)+1)\n",
    "        for i in range(0, len(ar), 2):\n",
    "            if ar[i] > ar[i+1]:\n",
    "                win_nums.append(ar[i+1])\n",
    "            else:\n",
    "                win_nums.append(ar[i])\n",
    "        ar = copy.copy(win_nums)\n",
    "    return ar\n",
    "\n",
    "def toursort(ar):\n",
    "    sorted_arr = []\n",
    "    while (len(ar) > 0):\n",
    "        winner = tour(copy.copy(ar))[0]\n",
    "        ar.remove(winner)\n",
    "        sorted_arr.append(winner)\n",
    "    return sorted_arr\n",
    "\n",
    "row = copy.deepcopy(matrix) # создаём копию исходной матрицы\n",
    "for k in range(user_n):\n",
    "    row[k] = toursort(row[k])\n",
    "    \n",
    "print(row, \"Отсортированный по строкам массив\")\n",
    "print(matrix, \"Исходный массив\")\n",
    "\n",
    "print(\"--- {0} ms ---\".format(round((time.time() - start_time)*1000)))"
   ]
  },
  {
   "cell_type": "markdown",
   "id": "rental-jerusalem",
   "metadata": {
    "id": "rental-jerusalem"
   },
   "source": [
    "### Вывод\n"
   ]
  },
  {
   "cell_type": "markdown",
   "metadata": {},
   "source": [
    "В ходе выполнения лабораторной работы мы познакомились и научились использовать различные методы сортировок на практике"
   ]
  }
 ],
 "metadata": {
  "colab": {
   "provenance": []
  },
  "kernelspec": {
   "display_name": "Python 3 (ipykernel)",
   "language": "python",
   "name": "python3"
  },
  "language_info": {
   "codemirror_mode": {
    "name": "ipython",
    "version": 3
   },
   "file_extension": ".py",
   "mimetype": "text/x-python",
   "name": "python",
   "nbconvert_exporter": "python",
   "pygments_lexer": "ipython3",
   "version": "3.9.13"
  }
 },
 "nbformat": 4,
 "nbformat_minor": 5
}
